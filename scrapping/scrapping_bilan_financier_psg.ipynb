{
 "cells": [
  {
   "cell_type": "code",
   "execution_count": 1,
   "metadata": {},
   "outputs": [],
   "source": [
    "from selenium import webdriver\n",
    "from datetime import datetime\n",
    "import pandas as pd\n",
    "from datetime import datetime\n",
    "import re\n",
    "\n",
    "    "
   ]
  },
  {
   "cell_type": "code",
   "execution_count": 2,
   "metadata": {},
   "outputs": [
    {
     "name": "stderr",
     "output_type": "stream",
     "text": [
      "[WDM] - Current google-chrome version is 87.0.4280\n",
      "[WDM] - Get LATEST driver version for 87.0.4280\n"
     ]
    },
    {
     "name": "stdout",
     "output_type": "stream",
     "text": [
      " \n"
     ]
    },
    {
     "name": "stderr",
     "output_type": "stream",
     "text": [
      "[WDM] - Get LATEST driver version for 87.0.4280\n",
      "[WDM] - Trying to download new driver from http://chromedriver.storage.googleapis.com/87.0.4280.88/chromedriver_win32.zip\n",
      "[WDM] - Driver has been saved in cache [C:\\Users\\TRANG THOMAS\\.wdm\\drivers\\chromedriver\\win32\\87.0.4280.88]\n"
     ]
    }
   ],
   "source": [
    "from webdriver_manager.chrome import ChromeDriverManager\n",
    "\n",
    "driver = webdriver.Chrome(ChromeDriverManager().install()) "
   ]
  },
  {
   "cell_type": "code",
   "execution_count": 5,
   "metadata": {},
   "outputs": [],
   "source": [
    "def insert_new_row(df,row):\n",
    "    new_row = dict(zip(df.columns,row))\n",
    "    new_df = df.append(new_row,ignore_index=True)\n",
    "    return new_df"
   ]
  },
  {
   "cell_type": "markdown",
   "metadata": {},
   "source": [
    "<br><br><br>\n",
    "# Bilan actif PSG depuis 2006"
   ]
  },
  {
   "cell_type": "code",
   "execution_count": 6,
   "metadata": {},
   "outputs": [],
   "source": [
    "df_actif = pd.DataFrame(columns=['Date de cloture','Durée','Devise','Actif Immobilisé net','immobilisations incorporelles',\n",
    "                               'immobilisations corporelles','immobilisations financières',\n",
    "                               'Actif circulant net','stocks et en-cours','créances','disponibilités : trésorerie',\n",
    "                               'Total actif'])"
   ]
  },
  {
   "cell_type": "code",
   "execution_count": 11,
   "metadata": {},
   "outputs": [],
   "source": [
    "def recupData_actif_premiere_annee(df):\n",
    "    \n",
    "    liste=[]\n",
    "\n",
    "    date_cloture=driver.find_element_by_xpath('.//th[@class=\"txt-right\"]').text\n",
    "    liste.append(date_cloture)\n",
    "\n",
    "    duree_exercice=\"12 mois\"\n",
    "    liste.append(duree_exercice)\n",
    "\n",
    "    devise=\"euros\"\n",
    "    liste.append(devise)\n",
    "\n",
    "    actif_immobilise_total_net=driver.find_element_by_xpath('.//tr[@class=\"subHead\"]').text\n",
    "    actif_immobilise_total_net=actif_immobilise_total_net.split('\\n')[1]\n",
    "    liste.append(actif_immobilise_total_net)\n",
    "\n",
    "    actif_immobilise_incorporel=driver.find_element_by_xpath('.//tr[@class=\"no-bg grey7\"]').text\n",
    "    actif_immobilise_incorporel=actif_immobilise_incorporel.replace('K','000')\n",
    "    actif_immobilise_incorporel=re.split('(\\d.*)',actif_immobilise_incorporel)[1]\n",
    "    liste.append(actif_immobilise_incorporel)\n",
    "\n",
    "    actif_immobilise_corporel=driver.find_element_by_xpath('.//tr[@class=\"grey7 bg-lighter-blue\"]').text\n",
    "    actif_immobilise_corporel=actif_immobilise_corporel.replace('K','000')\n",
    "    actif_immobilise_corporel=re.split('(\\d.*)',actif_immobilise_corporel)[1]\n",
    "    liste.append(actif_immobilise_corporel)\n",
    "\n",
    "    actif_immobilise_financieres=driver.find_element_by_xpath(\"(//tr[@class='no-bg grey7'])[2]\").text\n",
    "    actif_immobilise_financieres=actif_immobilise_financieres.replace('K','000')\n",
    "    actif_immobilise_financieres=re.split('(\\d.*)',actif_immobilise_financieres)[1]\n",
    "    liste.append(actif_immobilise_financieres)\n",
    "\n",
    "\n",
    "    actif_circulant_total_net=driver.find_element_by_xpath(\"(//tr[@class='subHead'])[2]\").text\n",
    "    actif_circulant_total_net=actif_circulant_total_net.split('\\n')[1]\n",
    "    liste.append(actif_circulant_total_net)\n",
    "\n",
    "    stocks_et_encours=driver.find_element_by_xpath('.//tr[@class=\"grey7\"]').text\n",
    "    stocks_et_encours=re.split('(\\d.*)',stocks_et_encours)[1]\n",
    "    liste.append(stocks_et_encours)\n",
    "\n",
    "    actif_circulant_creances=driver.find_element_by_xpath('.//tr[@class=\"grey7 bg-lighter-blue\"][3]').text\n",
    "    actif_circulant_creances=actif_circulant_creances.replace('K','000')\n",
    "    actif_circulant_creances=re.split('(\\d.*)',actif_circulant_creances)[1]\n",
    "    liste.append(actif_circulant_creances)\n",
    "\n",
    "    actif_disponibilite_tresorerie=driver.find_element_by_xpath('.//tr[@class=\"grey7\"][2]').text\n",
    "    actif_disponibilite_tresorerie=actif_disponibilite_tresorerie.replace('K','000')\n",
    "    actif_disponibilite_tresorerie=re.split('(\\d.*)',actif_disponibilite_tresorerie)[1]\n",
    "    liste.append(actif_disponibilite_tresorerie)\n",
    "\n",
    "    actif_total=driver.find_element_by_xpath(\"(//tr[@class='subHead'])[3]\").text\n",
    "    actif_total=actif_total.split('\\n')[1]\n",
    "    liste.append(actif_total)\n",
    "\n",
    "  \n",
    "    \n",
    "    return insert_new_row(df,liste)"
   ]
  },
  {
   "cell_type": "code",
   "execution_count": 12,
   "metadata": {},
   "outputs": [],
   "source": [
    "def recupData_actif_reste_annee(df):\n",
    "    \n",
    "    liste=[]\n",
    "\n",
    "    date_cloture=driver.find_element_by_xpath('.//th[@class=\"txt-right\"]').text\n",
    "    liste.append(date_cloture)\n",
    "\n",
    "    duree_exercice=\"12 mois\"\n",
    "    liste.append(duree_exercice)\n",
    "\n",
    "    devise=\"euros\"\n",
    "    liste.append(devise)\n",
    "\n",
    "    actif_immobilise_total_net=driver.find_element_by_xpath('.//tr[@class=\"subHead\"]').text\n",
    "    actif_immobilise_total_net=actif_immobilise_total_net.split('\\n')[1]\n",
    "    liste.append(actif_immobilise_total_net)\n",
    "\n",
    "    actif_immobilise_incorporel=driver.find_element_by_xpath('.//tr[@class=\"no-bg grey7\"]/td[2]').text\n",
    "    liste.append(actif_immobilise_incorporel)\n",
    "\n",
    "    actif_immobilise_corporel=driver.find_element_by_xpath('.//tr[@class=\"grey7 bg-lighter-blue\"]/td[2]').text\n",
    "    liste.append(actif_immobilise_corporel)\n",
    "\n",
    "    actif_immobilise_financieres=driver.find_element_by_xpath('.//tr[@class=\"no-bg grey7\"][2]/td[2]').text\n",
    "    liste.append(actif_immobilise_financieres)\n",
    "\n",
    "\n",
    "    actif_circulant_total_net=driver.find_element_by_xpath(\"(//tr[@class='subHead'])[2]\").text\n",
    "    actif_circulant_total_net=actif_circulant_total_net.split('\\n')[1]\n",
    "    liste.append(actif_circulant_total_net)\n",
    "\n",
    "    stocks_et_encours=driver.find_element_by_xpath('.//tr[@class=\"grey7\"]/td[2]').text\n",
    "    liste.append(stocks_et_encours)\n",
    "\n",
    "    actif_circulant_creances=driver.find_element_by_xpath('.//tr[@class=\"grey7 bg-lighter-blue\"][3]/td[2]').text\n",
    "    liste.append(actif_circulant_creances)\n",
    "\n",
    "    actif_disponibilite_tresorerie=driver.find_element_by_xpath('.//tr[@class=\"grey7\"][2]/td[2]').text\n",
    "    liste.append(actif_disponibilite_tresorerie)\n",
    "\n",
    "    actif_total=driver.find_element_by_xpath(\"(//tr[@class='subHead'])[3]\").text\n",
    "    actif_total=actif_total.split('\\n')[1]\n",
    "    liste.append(actif_total)\n",
    "\n",
    "    return insert_new_row(df,liste)"
   ]
  },
  {
   "cell_type": "markdown",
   "metadata": {},
   "source": [
    "Scrapping"
   ]
  },
  {
   "cell_type": "code",
   "execution_count": 13,
   "metadata": {},
   "outputs": [],
   "source": [
    "driver.get('https://www.societe.com/bilan/paris-saint-germain-football-382357721200606301.html')\n",
    "df_actif=recupData_actif_premiere_annee(df_actif)"
   ]
  },
  {
   "cell_type": "code",
   "execution_count": 15,
   "metadata": {},
   "outputs": [],
   "source": [
    "for i in range(7,10):\n",
    "    driver.get('https://www.societe.com/bilan/paris-saint-germain-football-382357721200'+str(i)+'06301.html')\n",
    "    df_actif=recupData_actif_reste_annee(df_actif)\n",
    "for i in range(10,20):\n",
    "    driver.get('https://www.societe.com/bilan/paris-saint-germain-football-38235772120'+str(i)+'06301.html')\n",
    "    df_actif=recupData_actif_reste_annee(df_actif)"
   ]
  },
  {
   "cell_type": "markdown",
   "metadata": {},
   "source": [
    "Conversion en valeurs numériques"
   ]
  },
  {
   "cell_type": "code",
   "execution_count": 17,
   "metadata": {},
   "outputs": [],
   "source": [
    "df_actif[\"Actif Immobilisé net\"] = df_actif[\"Actif Immobilisé net\"].str.replace(' ','')\n",
    "df_actif[\"immobilisations incorporelles\"] = df_actif[\"immobilisations incorporelles\"].str.replace(' ','')\n",
    "df_actif[\"immobilisations corporelles\"] = df_actif[\"immobilisations corporelles\"].str.replace(' ','')\n",
    "df_actif[\"immobilisations financières\"] = df_actif[\"immobilisations financières\"].str.replace(' ','')\n",
    "df_actif[\"Actif circulant net\"] = df_actif[\"Actif circulant net\"].str.replace(' ','')\n",
    "df_actif[\"créances\"] = df_actif[\"créances\"].str.replace(' ','')\n",
    "df_actif[\"disponibilités : trésorerie\"] = df_actif[\"disponibilités : trésorerie\"].str.replace(' ','')\n",
    "df_actif[\"Total actif\"] = df_actif[\"Total actif\"].str.replace(' ','')\n"
   ]
  },
  {
   "cell_type": "markdown",
   "metadata": {},
   "source": [
    "Typer les colonnes "
   ]
  },
  {
   "cell_type": "code",
   "execution_count": 21,
   "metadata": {},
   "outputs": [],
   "source": [
    "df_actif[[\"Actif Immobilisé net\", \"immobilisations incorporelles\",\"immobilisations corporelles\",\n",
    "          \"immobilisations financières\",\"Actif circulant net\",\"stocks et en-cours\",\"créances\",\n",
    "          \"disponibilités : trésorerie\",\"Total actif\"]] = df_actif[[\"Actif Immobilisé net\", \"immobilisations incorporelles\",\"immobilisations corporelles\",\n",
    "          \"immobilisations financières\",\"Actif circulant net\",\"stocks et en-cours\",\"créances\",\n",
    "          \"disponibilités : trésorerie\",\"Total actif\"]].apply(pd.to_numeric)\n",
    "df_actif[\"Date de cloture\"]=pd.to_datetime(df_actif[\"Date de cloture\"],format='%d-%m-%Y')"
   ]
  },
  {
   "cell_type": "markdown",
   "metadata": {},
   "source": [
    "Convertir en csv"
   ]
  },
  {
   "cell_type": "code",
   "execution_count": 30,
   "metadata": {},
   "outputs": [],
   "source": [
    "df_actif.to_csv('bilan_actif_psg.csv')"
   ]
  },
  {
   "cell_type": "markdown",
   "metadata": {},
   "source": [
    "<br><br><br><br><br><br><br>\n",
    "# Bilan Passif PSG depuis 2006 "
   ]
  },
  {
   "cell_type": "code",
   "execution_count": 92,
   "metadata": {},
   "outputs": [],
   "source": [
    "df_passif = pd.DataFrame(columns=['Date de cloture','Durée','Devise','Capitaux propres','Provisions',\n",
    "                               'Dettes','Dettes financières et emprunts',\n",
    "                               'Dettes fournisseurs','Dettes fiscales et sociales','Autres dettes','Compte de régularisation passif',\n",
    "                               'Total passif'])"
   ]
  },
  {
   "cell_type": "code",
   "execution_count": 93,
   "metadata": {},
   "outputs": [],
   "source": [
    "def recupData_passif_premiere_annee(df):\n",
    "    \n",
    "    liste=[]\n",
    "\n",
    "    date_cloture=driver.find_element_by_xpath('.//th[@class=\"txt-right\"]').text\n",
    "    liste.append(date_cloture)\n",
    "\n",
    "    duree_exercice=\"12 mois\"\n",
    "    liste.append(duree_exercice)\n",
    "\n",
    "    devise=\"euros\"\n",
    "    liste.append(devise)\n",
    "\n",
    "    actif_immobilise_total_net=driver.find_element_by_xpath('.//table[@id=\"passif\"]/tbody/tr[@class=\"subHead\"]').text\n",
    "    actif_immobilise_total_net=actif_immobilise_total_net.split('\\n')[1]\n",
    "    liste.append(actif_immobilise_total_net)\n",
    "\n",
    "    actif_immobilise_incorporel=driver.find_element_by_xpath('.//table[@id=\"passif\"]/tbody/tr[@class=\"subHead\"][2]').text\n",
    "    actif_immobilise_incorporel=actif_immobilise_incorporel.replace('K','000')\n",
    "    actif_immobilise_incorporel=re.split('(\\d.*)',actif_immobilise_incorporel)[1]\n",
    "    liste.append(actif_immobilise_incorporel)\n",
    "\n",
    "    actif_immobilise_corporel=driver.find_element_by_xpath('.//table[@id=\"passif\"]/tbody/tr[@class=\"subHead\"][3]').text\n",
    "    actif_immobilise_corporel=actif_immobilise_corporel.replace('K','000')\n",
    "    actif_immobilise_corporel=re.split('(\\d.*)',actif_immobilise_corporel)[1]\n",
    "    liste.append(actif_immobilise_corporel)\n",
    "\n",
    "    actif_immobilise_financieres=driver.find_element_by_xpath(\"(//table[@id='passif']/tbody/tr[@class='grey6'])\").text\n",
    "    actif_immobilise_financieres=actif_immobilise_financieres.replace('K','000')\n",
    "    actif_immobilise_financieres=re.split('(\\d.*)',actif_immobilise_financieres)[1]\n",
    "    liste.append(actif_immobilise_financieres)\n",
    "\n",
    "\n",
    "    actif_circulant_total_net=driver.find_element_by_xpath(\"(//table[@id='passif']/tbody/tr[@class='grey6 bg-lighter-blue'])[2]\").text\n",
    "    actif_circulant_total_net=re.split('(\\d.*)',actif_circulant_total_net)[1]\n",
    "    liste.append(actif_circulant_total_net)\n",
    "\n",
    "    stocks_et_encours=driver.find_element_by_xpath('.//table[@id=\"passif\"]/tbody/tr[@class=\"grey6\"][2]').text\n",
    "    stocks_et_encours=re.split('(\\d.*)',stocks_et_encours)[1]\n",
    "    liste.append(stocks_et_encours)\n",
    "\n",
    "    actif_circulant_creances=driver.find_element_by_xpath('.//table[@id=\"passif\"]/tbody/tr[@class=\"grey6 bg-lighter-blue\"][3]').text\n",
    "    actif_circulant_creances=actif_circulant_creances.replace('K','000')\n",
    "    actif_circulant_creances=re.split('(\\d.*)',actif_circulant_creances)[1]\n",
    "    liste.append(actif_circulant_creances)\n",
    "\n",
    "    actif_disponibilite_tresorerie=driver.find_element_by_xpath('.//table[@id=\"passif\"]/tbody/tr[@class=\"ft-medium\"][2]').text\n",
    "    actif_disponibilite_tresorerie=actif_disponibilite_tresorerie.replace('K','000')\n",
    "    actif_disponibilite_tresorerie=re.split('(\\d.*)',actif_disponibilite_tresorerie)[1]\n",
    "    liste.append(actif_disponibilite_tresorerie)\n",
    "\n",
    "    actif_total=driver.find_element_by_xpath(\"(//table[@id='passif']/tbody/tr[@class='subHead'])[4]\").text\n",
    "    actif_total=actif_total.split('\\n')[1]\n",
    "    liste.append(actif_total)\n",
    "\n",
    "  \n",
    "    \n",
    "    return insert_new_row(df,liste)"
   ]
  },
  {
   "cell_type": "code",
   "execution_count": 94,
   "metadata": {},
   "outputs": [],
   "source": [
    "def recupData_passif_reste_annee(df):\n",
    "    \n",
    "    liste=[]\n",
    "\n",
    "    date_cloture=driver.find_element_by_xpath('.//th[@class=\"txt-right\"]').text\n",
    "    liste.append(date_cloture)\n",
    "\n",
    "    duree_exercice=\"12 mois\"\n",
    "    liste.append(duree_exercice)\n",
    "\n",
    "    devise=\"euros\"\n",
    "    liste.append(devise)\n",
    "\n",
    "    actif_immobilise_total_net=driver.find_element_by_xpath('.//table[@id=\"passif\"]/tbody/tr[@class=\"subHead\"]/td[2]').text\n",
    "    liste.append(actif_immobilise_total_net)\n",
    "\n",
    "    actif_immobilise_incorporel=driver.find_element_by_xpath('.//table[@id=\"passif\"]/tbody/tr[@class=\"subHead\"][2]/td[2]').text\n",
    "    liste.append(actif_immobilise_incorporel)\n",
    "\n",
    "    actif_immobilise_corporel=driver.find_element_by_xpath('.//table[@id=\"passif\"]/tbody/tr[@class=\"subHead\"][3]/td[2]').text\n",
    "    liste.append(actif_immobilise_corporel)\n",
    "\n",
    "    actif_immobilise_financieres=driver.find_element_by_xpath('.//table[@id=\"passif\"]/tbody/tr[@class=\"grey6\"]/td[2]').text\n",
    "    liste.append(actif_immobilise_financieres)\n",
    "\n",
    "\n",
    "    actif_circulant_total_net=driver.find_element_by_xpath(\"(//table[@id='passif']/tbody/tr[@class='grey6 bg-lighter-blue'])[2]/td[2]\").text\n",
    "    liste.append(actif_circulant_total_net)\n",
    "\n",
    "    stocks_et_encours=driver.find_element_by_xpath('.//table[@id=\"passif\"]/tbody/tr[@class=\"grey6\"][2]/td[2]').text\n",
    "    liste.append(stocks_et_encours)\n",
    "\n",
    "    actif_circulant_creances=driver.find_element_by_xpath('.//table[@id=\"passif\"]/tbody/tr[@class=\"grey6 bg-lighter-blue\"][3]/td[2]').text\n",
    "    liste.append(actif_circulant_creances)\n",
    "\n",
    "    actif_disponibilite_tresorerie=driver.find_element_by_xpath('.//table[@id=\"passif\"]/tbody/tr[@class=\"ft-medium\"][2]/td[2]').text\n",
    "    liste.append(actif_disponibilite_tresorerie)\n",
    "\n",
    "    actif_total=driver.find_element_by_xpath(\"(//table[@id='passif']/tbody/tr[@class='subHead'])[4]\").text\n",
    "    actif_total=actif_total.split('\\n')[1]\n",
    "    liste.append(actif_total)\n",
    "\n",
    "    return insert_new_row(df,liste)"
   ]
  },
  {
   "cell_type": "code",
   "execution_count": 95,
   "metadata": {},
   "outputs": [],
   "source": [
    "driver.get('https://www.societe.com/bilan/paris-saint-germain-football-382357721200606301.html')\n",
    "df_passif=recupData_passif_premiere_annee(df_passif)"
   ]
  },
  {
   "cell_type": "code",
   "execution_count": 97,
   "metadata": {},
   "outputs": [],
   "source": [
    "for i in range(7,10):\n",
    "    driver.get('https://www.societe.com/bilan/paris-saint-germain-football-382357721200'+str(i)+'06301.html')\n",
    "    df_passif=recupData_passif_reste_annee(df_passif)\n",
    "for i in range(10,20):\n",
    "    driver.get('https://www.societe.com/bilan/paris-saint-germain-football-38235772120'+str(i)+'06301.html')\n",
    "    df_passif=recupData_passif_reste_annee(df_passif)"
   ]
  },
  {
   "cell_type": "code",
   "execution_count": 99,
   "metadata": {},
   "outputs": [],
   "source": [
    "df_passif['Capitaux propres'] = df_passif['Capitaux propres'].str.replace(' ','')\n",
    "df_passif['Provisions'] = df_passif['Provisions'].str.replace(' ','')\n",
    "df_passif['Dettes'] = df_passif['Dettes'].str.replace(' ','')\n",
    "df_passif['Dettes financières et emprunts'] = df_passif['Dettes financières et emprunts'].str.replace(' ','')\n",
    "df_passif['Dettes fournisseurs'] = df_passif['Dettes fournisseurs'].str.replace(' ','')\n",
    "df_passif['Dettes fiscales et sociales'] = df_passif['Dettes fiscales et sociales'].str.replace(' ','')\n",
    "df_passif['Autres dettes'] = df_passif['Autres dettes'].str.replace(' ','')\n",
    "df_passif['Compte de régularisation passif'] = df_passif['Compte de régularisation passif'].str.replace(' ','')\n",
    "df_passif['Total passif'] = df_passif['Total passif'].str.replace(' ','')"
   ]
  },
  {
   "cell_type": "code",
   "execution_count": 100,
   "metadata": {
    "scrolled": false
   },
   "outputs": [],
   "source": [
    "df_passif[['Capitaux propres','Provisions',\n",
    "           'Dettes','Dettes financières et emprunts',\n",
    "           'Dettes fournisseurs','Dettes fiscales et sociales',\n",
    "           'Autres dettes','Compte de régularisation passif',\n",
    "           'Total passif']] = df_passif[['Capitaux propres','Provisions',\n",
    "                               'Dettes','Dettes financières et emprunts',\n",
    "                               'Dettes fournisseurs','Dettes fiscales et sociales',\n",
    "                                'Autres dettes','Compte de régularisation passif',\n",
    "                               'Total passif']].apply(pd.to_numeric)\n",
    "df_passif[\"Date de cloture\"]=pd.to_datetime(df_passif[\"Date de cloture\"],format='%d-%m-%Y')"
   ]
  },
  {
   "cell_type": "code",
   "execution_count": 101,
   "metadata": {},
   "outputs": [],
   "source": [
    "df_passif.to_csv('bilan_passif_psg.csv')"
   ]
  },
  {
   "cell_type": "markdown",
   "metadata": {},
   "source": [
    "<br><br><br><br>\n",
    "# Compte résultat PSG depuis 2006"
   ]
  },
  {
   "cell_type": "code",
   "execution_count": 71,
   "metadata": {},
   "outputs": [],
   "source": [
    "df_compte_resultat = pd.DataFrame(columns=['Date de cloture','Durée','Devise',\"Chiffre d'affaires\",'dont export',\n",
    "                               'Production','Valeurs ajoutée (VA)',\n",
    "                               \"Excédent d'exploitations\",\"Résultat d'exploitation\",'RCAI','Résultat net',\n",
    "                               'Effectif moyen'])"
   ]
  },
  {
   "cell_type": "code",
   "execution_count": 72,
   "metadata": {},
   "outputs": [],
   "source": [
    "def recupData_compte_total_premiere_annee(df):\n",
    "    \n",
    "    liste=[]\n",
    "\n",
    "    date_cloture=driver.find_element_by_xpath('.//th[@class=\"txt-right\"]').text\n",
    "    liste.append(date_cloture)\n",
    "\n",
    "    duree_exercice=\"12 mois\"\n",
    "    liste.append(duree_exercice)\n",
    "\n",
    "    devise=\"euros\"\n",
    "    liste.append(devise)\n",
    "\n",
    "    actif_immobilise_total_net=driver.find_element_by_xpath('.//table[@id=\"compteresultat\"]/tbody/tr[@class=\"subHead\"]').text\n",
    "    actif_immobilise_total_net=actif_immobilise_total_net.split('\\n')[1]\n",
    "    liste.append(actif_immobilise_total_net)\n",
    "\n",
    "    actif_immobilise_incorporel=driver.find_element_by_xpath('.//table[@id=\"compteresultat\"]/tbody/tr[@class=\"no-bg grey6\"]').text\n",
    "    actif_immobilise_incorporel=actif_immobilise_incorporel.replace('K','000')\n",
    "    actif_immobilise_incorporel=re.split('(\\d.*)',actif_immobilise_incorporel)[1]\n",
    "    liste.append(actif_immobilise_incorporel)\n",
    "\n",
    "    actif_immobilise_corporel=driver.find_element_by_xpath('.//table[@id=\"compteresultat\"]/tbody/tr[@class=\"ft-medium bg-lighter-blue\"][2]').text\n",
    "    actif_immobilise_corporel=actif_immobilise_corporel.replace('K','000')\n",
    "    actif_immobilise_corporel=re.split('(\\d.*)',actif_immobilise_corporel)[1]\n",
    "    liste.append(actif_immobilise_corporel)\n",
    "\n",
    "    actif_immobilise_financieres=driver.find_element_by_xpath(\"(//table[@id='compteresultat']/tbody/tr[@class='no-bg ft-medium'])\").text\n",
    "    actif_immobilise_financieres=actif_immobilise_financieres.replace('K','000')\n",
    "    actif_immobilise_financieres=re.split('(\\d.*)',actif_immobilise_financieres)[1]\n",
    "    liste.append(actif_immobilise_financieres)\n",
    "\n",
    "\n",
    "    actif_circulant_total_net=driver.find_element_by_xpath(\"(//table[@id='compteresultat']/tbody/tr[@class='no-bg ft-medium'])[2]\").text\n",
    "    actif_circulant_total_net=re.split('(\\d.*)',actif_circulant_total_net)[1]\n",
    "    liste.append(actif_circulant_total_net)\n",
    "\n",
    "    stocks_et_encours=driver.find_element_by_xpath('.//table[@id=\"compteresultat\"]/tbody/tr[@class=\"subHead\"][2]').text\n",
    "    stocks_et_encours=stocks_et_encours.split('\\n')[1]\n",
    "    liste.append(stocks_et_encours)\n",
    "\n",
    "    actif_circulant_creances=driver.find_element_by_xpath('.//table[@id=\"compteresultat\"]/tbody/tr[@class=\"no-bg ft-medium\"][3]').text\n",
    "    actif_circulant_creances=actif_circulant_creances[5:]\n",
    "    liste.append(actif_circulant_creances)\n",
    "\n",
    "    actif_disponibilite_tresorerie=driver.find_element_by_xpath('.//table[@id=\"compteresultat\"]/tbody/tr[@class=\"subHead\"][3]').text\n",
    "    actif_disponibilite_tresorerie=actif_disponibilite_tresorerie.split('\\n')[1]\n",
    "    liste.append(actif_disponibilite_tresorerie)\n",
    "\n",
    "    actif_total=driver.find_element_by_xpath(\"(//table[@id='compteresultat']/tbody/tr[@class='ft-medium'])[2]\").text\n",
    "    actif_total=actif_total.split(' ')[2]\n",
    "    liste.append(actif_total)\n",
    "\n",
    "  \n",
    "    \n",
    "    return insert_new_row(df,liste)"
   ]
  },
  {
   "cell_type": "code",
   "execution_count": 73,
   "metadata": {},
   "outputs": [],
   "source": [
    "def recupData_compte_total_autres_annees(df):\n",
    "    \n",
    "    liste=[]\n",
    "\n",
    "    date_cloture=driver.find_element_by_xpath('.//th[@class=\"txt-right\"]').text\n",
    "    liste.append(date_cloture)\n",
    "\n",
    "    duree_exercice=\"12 mois\"\n",
    "    liste.append(duree_exercice)\n",
    "\n",
    "    devise=\"euros\"\n",
    "    liste.append(devise)\n",
    "\n",
    "    actif_immobilise_total_net=driver.find_element_by_xpath('.//table[@id=\"compteresultat\"]/tbody/tr[@class=\"subHead\"]').text\n",
    "    actif_immobilise_total_net=actif_immobilise_total_net.split('\\n')[1]\n",
    "    liste.append(actif_immobilise_total_net)\n",
    "\n",
    "    actif_immobilise_incorporel=driver.find_element_by_xpath('.//table[@id=\"compteresultat\"]/tbody/tr[@class=\"no-bg grey6\"]/td[2]').text\n",
    "    actif_immobilise_incorporel=actif_immobilise_incorporel.replace('K','000')\n",
    "    actif_immobilise_incorporel=re.split('(\\d.*)',actif_immobilise_incorporel)[1]\n",
    "    liste.append(actif_immobilise_incorporel)\n",
    "\n",
    "    actif_immobilise_corporel=driver.find_element_by_xpath('.//table[@id=\"compteresultat\"]/tbody/tr[@class=\"ft-medium bg-lighter-blue\"][2]/td[2]').text\n",
    "    actif_immobilise_corporel=actif_immobilise_corporel.replace('K','000')\n",
    "    actif_immobilise_corporel=re.split('(\\d.*)',actif_immobilise_corporel)[1]\n",
    "    liste.append(actif_immobilise_corporel)\n",
    "\n",
    "    actif_immobilise_financieres=driver.find_element_by_xpath(\"(//table[@id='compteresultat']/tbody/tr[@class='no-bg ft-medium']/td[2])\").text\n",
    "    actif_immobilise_financieres=actif_immobilise_financieres.replace('K','000')\n",
    "    actif_immobilise_financieres=re.split('(\\d.*)',actif_immobilise_financieres)[1]\n",
    "    liste.append(actif_immobilise_financieres)\n",
    "\n",
    "\n",
    "    actif_circulant_total_net=driver.find_element_by_xpath(\"(//table[@id='compteresultat']/tbody/tr[@class='no-bg ft-medium'])[2]/td[2]\").text\n",
    "    liste.append(actif_circulant_total_net)\n",
    "\n",
    "    stocks_et_encours=driver.find_element_by_xpath('.//table[@id=\"compteresultat\"]/tbody/tr[@class=\"subHead\"][2]').text\n",
    "    stocks_et_encours=stocks_et_encours.split('\\n')[1]\n",
    "    liste.append(stocks_et_encours)\n",
    "\n",
    "    actif_circulant_creances=driver.find_element_by_xpath('.//table[@id=\"compteresultat\"]/tbody/tr[@class=\"no-bg ft-medium\"][3]/td[2]').text\n",
    "    liste.append(actif_circulant_creances)\n",
    "\n",
    "    actif_disponibilite_tresorerie=driver.find_element_by_xpath('.//table[@id=\"compteresultat\"]/tbody/tr[@class=\"subHead\"][3]').text\n",
    "    actif_disponibilite_tresorerie=actif_disponibilite_tresorerie.split('\\n')[1]\n",
    "    liste.append(actif_disponibilite_tresorerie)\n",
    "\n",
    "    actif_total=driver.find_element_by_xpath(\"(//table[@id='compteresultat']/tbody/tr[@class='ft-medium'])[2]\").text\n",
    "    actif_total=actif_total.split(' ')[2]\n",
    "    liste.append(actif_total)\n",
    "\n",
    "  \n",
    "    \n",
    "    return insert_new_row(df,liste)"
   ]
  },
  {
   "cell_type": "code",
   "execution_count": 74,
   "metadata": {},
   "outputs": [],
   "source": [
    "driver.get('https://www.societe.com/bilan/paris-saint-germain-football-382357721200606301.html')\n",
    "df_compte_resultat=recupData_compte_total_autres_annees(df_compte_resultat)"
   ]
  },
  {
   "cell_type": "code",
   "execution_count": 76,
   "metadata": {},
   "outputs": [],
   "source": [
    "for i in range(7,10):\n",
    "    driver.get('https://www.societe.com/bilan/paris-saint-germain-football-382357721200'+str(i)+'06301.html')\n",
    "    df_compte_resultat=recupData_compte_total_autres_annees(df_compte_resultat)\n",
    "for i in range(10,20):\n",
    "    driver.get('https://www.societe.com/bilan/paris-saint-germain-football-38235772120'+str(i)+'06301.html')\n",
    "    df_compte_resultat=recupData_compte_total_autres_annees(df_compte_resultat)"
   ]
  },
  {
   "cell_type": "code",
   "execution_count": 79,
   "metadata": {},
   "outputs": [],
   "source": [
    "df_compte_resultat[\"Chiffre d'affaires\"] = df_compte_resultat[\"Chiffre d'affaires\"].str.replace(' ','')\n",
    "df_compte_resultat['dont export'] = df_compte_resultat['dont export'].str.replace(' ','')\n",
    "df_compte_resultat['Production'] = df_compte_resultat['Production'].str.replace(' ','')\n",
    "df_compte_resultat['Valeurs ajoutée (VA)'] = df_compte_resultat['Valeurs ajoutée (VA)'].str.replace(' ','')\n",
    "df_compte_resultat[\"Excédent d'exploitations\"] = df_compte_resultat[\"Excédent d'exploitations\"].str.replace(' ','')\n",
    "df_compte_resultat[\"Résultat d'exploitation\"] = df_compte_resultat[\"Résultat d'exploitation\"].str.replace(' ','')\n",
    "df_compte_resultat['RCAI'] = df_compte_resultat['RCAI'].str.replace(' ','')\n",
    "df_compte_resultat['Résultat net'] = df_compte_resultat['Résultat net'].str.replace(' ','')\n"
   ]
  },
  {
   "cell_type": "code",
   "execution_count": 92,
   "metadata": {},
   "outputs": [],
   "source": [
    "df_compte_resultat.loc[df_compte_resultat['Date de cloture'] == '30-06-2014', ['Effectif moyen']]=350"
   ]
  },
  {
   "cell_type": "code",
   "execution_count": 93,
   "metadata": {
    "scrolled": true
   },
   "outputs": [],
   "source": [
    "df_compte_resultat[[\"Chiffre d'affaires\",'dont export',\n",
    "                               'Production','Valeurs ajoutée (VA)',\n",
    "                               \"Excédent d'exploitations\",\"Résultat d'exploitation\",'RCAI','Résultat net',\n",
    "                               'Effectif moyen']] = df_compte_resultat[[\"Chiffre d'affaires\",'dont export',\n",
    "                               'Production','Valeurs ajoutée (VA)',\n",
    "                               \"Excédent d'exploitations\",\"Résultat d'exploitation\",'RCAI','Résultat net',\n",
    "                               'Effectif moyen']].apply(pd.to_numeric)\n",
    "df_compte_resultat[\"Date de cloture\"]=pd.to_datetime(df_compte_resultat[\"Date de cloture\"],format='%d-%m-%Y')"
   ]
  },
  {
   "cell_type": "code",
   "execution_count": 94,
   "metadata": {},
   "outputs": [],
   "source": [
    "df_compte_resultat.to_csv('bilan_compte_resultat_psg.csv')"
   ]
  },
  {
   "cell_type": "code",
   "execution_count": null,
   "metadata": {},
   "outputs": [],
   "source": []
  },
  {
   "cell_type": "code",
   "execution_count": null,
   "metadata": {},
   "outputs": [],
   "source": []
  },
  {
   "cell_type": "code",
   "execution_count": null,
   "metadata": {},
   "outputs": [],
   "source": []
  },
  {
   "cell_type": "code",
   "execution_count": null,
   "metadata": {},
   "outputs": [],
   "source": []
  },
  {
   "cell_type": "code",
   "execution_count": null,
   "metadata": {},
   "outputs": [],
   "source": []
  },
  {
   "cell_type": "code",
   "execution_count": null,
   "metadata": {},
   "outputs": [],
   "source": []
  },
  {
   "cell_type": "code",
   "execution_count": null,
   "metadata": {},
   "outputs": [],
   "source": []
  },
  {
   "cell_type": "code",
   "execution_count": 20,
   "metadata": {
    "scrolled": false
   },
   "outputs": [
    {
     "data": {
      "text/plain": [
       "\"Date 30-06-2006\\nDurée 12 mois\\nDevise €\\nChiffre d'affaires\\n72 400 000\\ndont export 0\\nProduction * 72 400 000\\nValeur ajoutée (VA) 53 200 000\\nCharges de personnel + de détails\\nExcédent d'exploitation (EBE) 500 000\\nRésultat d'exploitation\\n-8 000 000\\nRCAI -9 100 000\\nImpôts, participation salariale + de détails\\nRésultat net\\n-12 900 000\\nEffectif moyen 156\""
      ]
     },
     "execution_count": 20,
     "metadata": {},
     "output_type": "execute_result"
    }
   ],
   "source": [
    "resultat"
   ]
  }
 ],
 "metadata": {
  "kernelspec": {
   "display_name": "Python 3",
   "language": "python",
   "name": "python3"
  },
  "language_info": {
   "codemirror_mode": {
    "name": "ipython",
    "version": 3
   },
   "file_extension": ".py",
   "mimetype": "text/x-python",
   "name": "python",
   "nbconvert_exporter": "python",
   "pygments_lexer": "ipython3",
   "version": "3.7.1"
  }
 },
 "nbformat": 4,
 "nbformat_minor": 2
}
